{
 "cells": [
  {
   "cell_type": "code",
   "execution_count": 43,
   "metadata": {
    "collapsed": true
   },
   "outputs": [],
   "source": [
    "import pandas as pd\n",
    "import numpy as np\n",
    "from datetime import datetime\n",
    "\n",
    "f = \"D:\\\\resources\\\\machineLearning\\\\python_test\\\\data\\\\\"\n",
    "allData = pd.read_csv(f + \"air_crashes.csv\")"
   ]
  },
  {
   "cell_type": "heading",
   "metadata": {},
   "level": 1,
   "source": [
    "Получаем данные о дате"
   ]
  },
  {
   "cell_type": "code",
   "execution_count": 40,
   "metadata": {},
   "outputs": [],
   "source": [
    "X = pd.DataFrame()\n",
    "f = \"%m/%d/%Y\"\n",
    "\n",
    "dates = [datetime.strptime(x, f) for x in allData[\"Date\"]]\n",
    "years = [x.year for x in dates]\n",
    "months = [x.month for x in dates]\n",
    "days = [x.day for x in dates]\n",
    "\n",
    "X[\"Y\"] = pd.Series(years)\n",
    "X[\"M\"] = pd.Series(months)\n",
    "X[\"D\"] = pd.Series(days)"
   ]
  },
  {
   "cell_type": "code",
   "execution_count": 44,
   "metadata": {},
   "outputs": [
    {
     "name": "stdout",
     "output_type": "stream",
     "text": [
      "      Y   M   D\n0  1908   9  17\n1  1912   7  12\n2  1913   8   6\n3  1913   9   9\n4  1913  10  17\n"
     ]
    }
   ],
   "source": [
    "print(X.head())"
   ]
  },
  {
   "cell_type": "code",
   "execution_count": null,
   "metadata": {},
   "outputs": [],
   "source": [
    ""
   ]
  }
 ],
 "metadata": {
  "kernelspec": {
   "display_name": "Python 2",
   "language": "python",
   "name": "python2"
  },
  "language_info": {
   "codemirror_mode": {
    "name": "ipython",
    "version": 2.0
   },
   "file_extension": ".py",
   "mimetype": "text/x-python",
   "name": "python",
   "nbconvert_exporter": "python",
   "pygments_lexer": "ipython2",
   "version": "2.7.6"
  }
 },
 "nbformat": 4,
 "nbformat_minor": 0
}